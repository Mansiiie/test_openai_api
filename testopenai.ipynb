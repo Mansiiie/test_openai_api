{
  "nbformat": 4,
  "nbformat_minor": 0,
  "metadata": {
    "colab": {
      "provenance": [],
      "authorship_tag": "ABX9TyOyU4+aMShV1BYz0eGsX5uG",
      "include_colab_link": true
    },
    "kernelspec": {
      "name": "python3",
      "display_name": "Python 3"
    },
    "language_info": {
      "name": "python"
    }
  },
  "cells": [
    {
      "cell_type": "markdown",
      "metadata": {
        "id": "view-in-github",
        "colab_type": "text"
      },
      "source": [
        "<a href=\"https://colab.research.google.com/github/Mansiiie/test_openai_api/blob/main/testopenai.ipynb\" target=\"_parent\"><img src=\"https://colab.research.google.com/assets/colab-badge.svg\" alt=\"Open In Colab\"/></a>"
      ]
    },
    {
      "cell_type": "code",
      "source": [
        "pip install openai"
      ],
      "metadata": {
        "id": "OB41pqXes22o"
      },
      "execution_count": null,
      "outputs": []
    },
    {
      "cell_type": "markdown",
      "source": [
        "###1.open ai api : The OpenAI API is a cloud-based interface that allows developers to integrate OpenAI's AI models into their own applications, products, or services. It provides access to advanced AI capabilities, including gpt, dall-e, whisper,Codex,embaddings"
      ],
      "metadata": {
        "id": "bmHC80aOIKPG"
      }
    },
    {
      "cell_type": "markdown",
      "source": [
        "###2.Generate OpenAi API key"
      ],
      "metadata": {
        "id": "GzDreptTJ7o7"
      }
    },
    {
      "cell_type": "code",
      "source": [
        "# @title\n",
        "mykey= \"\""
      ],
      "metadata": {
        "id": "FH_53COLH_RY"
      },
      "execution_count": null,
      "outputs": []
    },
    {
      "cell_type": "markdown",
      "source": [
        "###call key"
      ],
      "metadata": {
        "id": "eFsaehNsqLxV"
      }
    },
    {
      "cell_type": "code",
      "source": [
        "openai.api_key=mykey"
      ],
      "metadata": {
        "id": "Xt5BmHctqNaz"
      },
      "execution_count": null,
      "outputs": []
    },
    {
      "cell_type": "code",
      "source": [
        "all_models=openai.models.list()"
      ],
      "metadata": {
        "id": "_tpw_IHBID3a"
      },
      "execution_count": null,
      "outputs": []
    },
    {
      "cell_type": "code",
      "source": [
        "list(all_models)"
      ],
      "metadata": {
        "id": "rvhyhXesIgYv"
      },
      "execution_count": null,
      "outputs": []
    },
    {
      "cell_type": "code",
      "source": [
        "import pandas as pd\n",
        "df = pd.DataFrame(list(all_models),columns=[\"id\",\"created\",\"object\",\"owned_by\"])\n",
        "print(df)"
      ],
      "metadata": {
        "id": "2LquS9jUdlNz"
      },
      "execution_count": null,
      "outputs": []
    },
    {
      "cell_type": "markdown",
      "source": [
        "##chat completion using OpenAI"
      ],
      "metadata": {
        "id": "_qmiQXiS3164"
      }
    },
    {
      "cell_type": "code",
      "source": [
        "from openai import OpenAI\n",
        "client = OpenAI(api_key=mykey)\n",
        "\n",
        "completion = client.chat.completions.create(\n",
        "    model=\"gpt-4o\",\n",
        "    messages=[\n",
        "        {\"role\": \"developer\", \"content\": \"You are a helpful assistant.\"},\n",
        "        {\n",
        "            \"role\": \"user\",\n",
        "            \"content\": \"what is python programming?\"\n",
        "        }\n",
        "    ]\n",
        ")\n",
        "\n",
        "print(completion.choices[0].message)\n"
      ],
      "metadata": {
        "id": "c0jVB-xKtjVj"
      },
      "execution_count": null,
      "outputs": []
    },
    {
      "cell_type": "markdown",
      "source": [
        "##Langchain"
      ],
      "metadata": {
        "id": "1pxJoyvQduf7"
      }
    },
    {
      "cell_type": "code",
      "source": [
        "pip install langchain"
      ],
      "metadata": {
        "id": "VzcM_X_IfI-J"
      },
      "execution_count": null,
      "outputs": []
    },
    {
      "cell_type": "code",
      "source": [
        "import langchain"
      ],
      "metadata": {
        "id": "GpUv9Hm8d7Qi"
      },
      "execution_count": null,
      "outputs": []
    },
    {
      "cell_type": "markdown",
      "source": [
        "###langchain is wrapper of openai"
      ],
      "metadata": {
        "id": "JQq0qSzN-U34"
      }
    },
    {
      "cell_type": "code",
      "source": [
        "pip install -U langchain langchain_community"
      ],
      "metadata": {
        "id": "ofx8qKtY_pKc"
      },
      "execution_count": null,
      "outputs": []
    },
    {
      "cell_type": "code",
      "source": [
        "from langchain.llms import OpenAI"
      ],
      "metadata": {
        "id": "FgMQQzZqdwqK"
      },
      "execution_count": null,
      "outputs": []
    },
    {
      "cell_type": "code",
      "source": [
        "client=OpenAI(api_key=mykey)"
      ],
      "metadata": {
        "id": "WybRoGOBf-r9"
      },
      "execution_count": null,
      "outputs": []
    },
    {
      "cell_type": "code",
      "source": [
        "client = OpenAI(openai_api_key=mykey)"
      ],
      "metadata": {
        "id": "A9gWB0ol-w8L"
      },
      "execution_count": null,
      "outputs": []
    },
    {
      "cell_type": "code",
      "source": [
        "#zero short prompting\n",
        "prompt = \"can you tell me total number of country in asia\""
      ],
      "metadata": {
        "id": "-Pq5JVbFgM7n"
      },
      "execution_count": null,
      "outputs": []
    },
    {
      "cell_type": "code",
      "source": [
        "client = predict(prompt)\n",
        "print(client)"
      ],
      "metadata": {
        "id": "6XeBeEGegI1n"
      },
      "execution_count": null,
      "outputs": []
    },
    {
      "cell_type": "code",
      "source": [
        "prompt2 = \"can you tell me capital of india\""
      ],
      "metadata": {
        "id": "WyvMv5L3Csqi"
      },
      "execution_count": null,
      "outputs": []
    },
    {
      "cell_type": "code",
      "source": [
        "import openai\n",
        "\n",
        "def predict(prompt):\n",
        "    response = openai.ChatCompletion.create(\n",
        "        model=\"gpt-4\",\n",
        "        messages=[{\"role\": \"user\", \"content\": prompt}]\n",
        "    )\n",
        "    return response[\"choices\"][0][\"message\"][\"content\"]\n",
        "\n",
        "prompt = \"Tell me a joke.\"\n",
        "client = predict(prompt).strip()\n",
        "print(client)\n"
      ],
      "metadata": {
        "id": "4UAG4y02y6ak"
      },
      "execution_count": null,
      "outputs": []
    },
    {
      "cell_type": "code",
      "source": [
        "from langchain.prompts import PromptTemplate\n"
      ],
      "metadata": {
        "id": "dIdmP5R1EPgo"
      },
      "execution_count": null,
      "outputs": []
    },
    {
      "cell_type": "markdown",
      "source": [
        "##prompt templates : to create flexible, reusable, and customizable prompts by filling in placeholders with user inputs.\n",
        "\n"
      ],
      "metadata": {
        "id": "iBNNqqIIInun"
      }
    },
    {
      "cell_type": "code",
      "source": [
        "prompt_template_name = PromptTemplate(\n",
        "    input_variable= ['country'],\n",
        "    template = \"can you tell me capital of {country}?\"\n",
        ")\n",
        "\n"
      ],
      "metadata": {
        "id": "MKTUTqY_Ee2o"
      },
      "execution_count": null,
      "outputs": []
    },
    {
      "cell_type": "code",
      "source": [
        "prompt1=prompt_template_name.format(country=\"india\")"
      ],
      "metadata": {
        "id": "5lpD6mJFFMr3"
      },
      "execution_count": null,
      "outputs": []
    },
    {
      "cell_type": "code",
      "source": [
        "prompt2=prompt_template_name.format(country=\"china\")"
      ],
      "metadata": {
        "id": "YprQQg1jF1zn"
      },
      "execution_count": null,
      "outputs": []
    },
    {
      "cell_type": "code",
      "source": [
        "client.predict(prompt1).strip()"
      ],
      "metadata": {
        "id": "iwlNATseGiOv"
      },
      "execution_count": null,
      "outputs": []
    },
    {
      "cell_type": "code",
      "source": [
        "prompt = PromptTemplate.from_template(\"can you tell me good name of company that makes toys in {product}\")"
      ],
      "metadata": {
        "id": "NB_UwQyiHroH"
      },
      "execution_count": null,
      "outputs": []
    },
    {
      "cell_type": "code",
      "source": [
        "prompt3=prompt.format(product=\"toys\")"
      ],
      "metadata": {
        "id": "OtTIQz-2H7Rv"
      },
      "execution_count": null,
      "outputs": []
    },
    {
      "cell_type": "code",
      "source": [
        "client.predict(prompt3).strip()"
      ],
      "metadata": {
        "id": "G2I7n1HjIU5J"
      },
      "execution_count": null,
      "outputs": []
    },
    {
      "cell_type": "markdown",
      "source": [
        "##agents:extract real-time info from 3rd party api(use serp api-call google search engine and extract realtime info)"
      ],
      "metadata": {
        "id": "1XBnhiyMIr6k"
      }
    },
    {
      "cell_type": "code",
      "source": [
        "prompt4:\"can you tell me current gdp of india\""
      ],
      "metadata": {
        "id": "3yEJBbgIJnDR"
      },
      "execution_count": null,
      "outputs": []
    },
    {
      "cell_type": "code",
      "source": [
        "client.predict(prompt4).strip()"
      ],
      "metadata": {
        "id": "NPgR0bKQJpp4"
      },
      "execution_count": null,
      "outputs": []
    },
    {
      "cell_type": "code",
      "source": [
        "pip install google-search-results"
      ],
      "metadata": {
        "id": "88NgXfBoKC6m"
      },
      "execution_count": null,
      "outputs": []
    },
    {
      "cell_type": "code",
      "source": [
        "serpapi_key = \"\""
      ],
      "metadata": {
        "id": "FTXufMhOKM-z"
      },
      "execution_count": null,
      "outputs": []
    },
    {
      "cell_type": "code",
      "source": [
        "from langchain.agents import AgentType\n",
        "from langchain.agents import load_tools\n",
        "from langchain.agents import initialize_agent\n",
        "from langchain.agents import load_tools\n",
        "from langchain.llms import OpenAI"
      ],
      "metadata": {
        "id": "D7m_PgQJMc3_"
      },
      "execution_count": null,
      "outputs": []
    },
    {
      "cell_type": "code",
      "source": [
        "client = OpenAI(api_key=mykey)\n"
      ],
      "metadata": {
        "id": "h3WHPLF4MivG"
      },
      "execution_count": null,
      "outputs": []
    },
    {
      "cell_type": "code",
      "source": [
        "tool=load_tools([\"serpapi\"],serpapi_api_key=serpapi_key,llm=client)"
      ],
      "metadata": {
        "id": "NkoZwW-xNI__"
      },
      "execution_count": null,
      "outputs": []
    },
    {
      "cell_type": "code",
      "source": [
        "agent= initialize_agent(tool,client, agent=AgentType.ZERO_SHOT_REACT_DESCRIPTION,verbose=True)"
      ],
      "metadata": {
        "id": "KjkTQMOZN8mX"
      },
      "execution_count": null,
      "outputs": []
    },
    {
      "cell_type": "code",
      "source": [
        "agent.run(\"can you tell me current gdp of india?\")"
      ],
      "metadata": {
        "id": "1xm1vq6UP7Tv"
      },
      "execution_count": null,
      "outputs": []
    },
    {
      "cell_type": "code",
      "source": [
        "pip install wikipedia"
      ],
      "metadata": {
        "id": "ycvUEaAEQdMh"
      },
      "execution_count": null,
      "outputs": []
    },
    {
      "cell_type": "code",
      "source": [
        "tool = load_tools([\"wikipedia\"],llm=client)"
      ],
      "metadata": {
        "id": "Lewdf8kxQnPM"
      },
      "execution_count": null,
      "outputs": []
    },
    {
      "cell_type": "code",
      "source": [
        "agent= initialize_agent(tool,client, agent=AgentType.ZERO_SHOT_REACT_DESCRIPTION,verbose=True)"
      ],
      "metadata": {
        "id": "Hgxdgn4oQ0g9"
      },
      "execution_count": null,
      "outputs": []
    },
    {
      "cell_type": "code",
      "source": [
        "agent.run(\"can you tell me more about cricket world cup?\")"
      ],
      "metadata": {
        "id": "Di69xZyUQ4-T"
      },
      "execution_count": null,
      "outputs": []
    },
    {
      "cell_type": "markdown",
      "source": [
        "##langchain documentation=langchain.com"
      ],
      "metadata": {
        "id": "p-olcbIbRGWy"
      }
    },
    {
      "cell_type": "markdown",
      "source": [
        "##chain"
      ],
      "metadata": {
        "id": "hDglfXFySlea"
      }
    },
    {
      "cell_type": "code",
      "source": [
        "client"
      ],
      "metadata": {
        "id": "BSmTKqxmSvEe"
      },
      "execution_count": null,
      "outputs": []
    },
    {
      "cell_type": "code",
      "source": [
        "from langchain import PromptTemplate\n",
        "prompt = PromptTemplate.from_template(\"what is good name of company that makes {product}\")"
      ],
      "metadata": {
        "id": "xkOhv_eNUbLg"
      },
      "execution_count": null,
      "outputs": []
    },
    {
      "cell_type": "code",
      "source": [
        "from langchain.chains import LLMChain"
      ],
      "metadata": {
        "id": "DdcBcV0MXNQk"
      },
      "execution_count": null,
      "outputs": []
    },
    {
      "cell_type": "code",
      "source": [
        "chain=LLMChain(llm=client,prompt=prompt)\n"
      ],
      "metadata": {
        "id": "VmgAimQhXN9h"
      },
      "execution_count": null,
      "outputs": []
    },
    {
      "cell_type": "code",
      "source": [
        "chain.run(\"chocolate\").strip()"
      ],
      "metadata": {
        "id": "e31G4AvUXk0M"
      },
      "execution_count": null,
      "outputs": []
    },
    {
      "cell_type": "markdown",
      "source": [
        "##read any document by langchain"
      ],
      "metadata": {
        "id": "CaZSWWJTbEeu"
      }
    },
    {
      "cell_type": "code",
      "source": [
        "pip install pypdf"
      ],
      "metadata": {
        "id": "P_KbsD03bjfB"
      },
      "execution_count": null,
      "outputs": []
    },
    {
      "cell_type": "code",
      "source": [
        "from langchain.document_loaders import PyPDFLoader"
      ],
      "metadata": {
        "id": "96-neP8_hdc_"
      },
      "execution_count": null,
      "outputs": []
    },
    {
      "cell_type": "code",
      "source": [
        "loader = PyPDFLoader(r\"D:\\red_riding_hood\")"
      ],
      "metadata": {
        "id": "0b9ZbgsxiK_q"
      },
      "execution_count": null,
      "outputs": []
    },
    {
      "cell_type": "markdown",
      "source": [
        "##Memory: Using chatgpt, we use to retain memory."
      ],
      "metadata": {
        "id": "ez7MkrbiELUC"
      }
    },
    {
      "cell_type": "code",
      "source": [
        "from langchain.prompts import PromptTemplate\n",
        "from langchain.chains import LLMChain\n",
        "from langchain.llms import OpenAI"
      ],
      "metadata": {
        "id": "jUpxQYa8Eyh5"
      },
      "execution_count": null,
      "outputs": []
    },
    {
      "cell_type": "code",
      "source": [
        "client=OpenAI(openai_api_key=mykey)"
      ],
      "metadata": {
        "id": "Q0TNkL9yFrnB"
      },
      "execution_count": null,
      "outputs": []
    },
    {
      "cell_type": "code",
      "source": [
        "prompt_template_name = PromptTemplate(\n",
        "    input_variable = ['product'],\n",
        "    template = \"what is good name of company that makes {product}\"\n",
        ")"
      ],
      "metadata": {
        "id": "y23nxywqG4Sr"
      },
      "execution_count": null,
      "outputs": []
    },
    {
      "cell_type": "code",
      "source": [
        "chain=LLMChain(llm=client,prompt=prompt_template_name)"
      ],
      "metadata": {
        "id": "9yXnrfwQHsWB"
      },
      "execution_count": null,
      "outputs": []
    },
    {
      "cell_type": "code",
      "source": [
        "print(chain.run(\"cloths\"))"
      ],
      "metadata": {
        "id": "vsAxldWrIDsO"
      },
      "execution_count": null,
      "outputs": []
    },
    {
      "cell_type": "markdown",
      "source": [
        "##conversation buffer memory: we can attach memory to remember all previous conversation"
      ],
      "metadata": {
        "id": "BXbWHDmgJNgw"
      }
    },
    {
      "cell_type": "code",
      "source": [
        "from langchain.memory import ConversationBufferMemory"
      ],
      "metadata": {
        "id": "Dp4jW9c0Jiia"
      },
      "execution_count": null,
      "outputs": []
    },
    {
      "cell_type": "code",
      "source": [
        "memory = ConversationBufferMemory()"
      ],
      "metadata": {
        "id": "FEfFlghZJRwU"
      },
      "execution_count": null,
      "outputs": []
    },
    {
      "cell_type": "code",
      "source": [
        "prompt_template_name = PromptTemplate(\n",
        "    input_variable = ['product'],\n",
        "    template = \"what is good name of company that makes {product}\"\n",
        ")"
      ],
      "metadata": {
        "id": "7C8sYlhRJ9d9"
      },
      "execution_count": null,
      "outputs": []
    },
    {
      "cell_type": "code",
      "source": [
        "LLMChain(llm=client,prompt=prompt_template_name,memory=memory)"
      ],
      "metadata": {
        "id": "2f-ArnNOKCWI"
      },
      "execution_count": null,
      "outputs": []
    },
    {
      "cell_type": "code",
      "source": [
        "chain.run(\"chocolate\")"
      ],
      "metadata": {
        "id": "k50y48hKLBce"
      },
      "execution_count": null,
      "outputs": []
    },
    {
      "cell_type": "code",
      "source": [
        "chain.run(\"drons\")"
      ],
      "metadata": {
        "id": "nUuWy_EILP19"
      },
      "execution_count": null,
      "outputs": []
    },
    {
      "cell_type": "code",
      "source": [
        "chain.run(\"cloths\")"
      ],
      "metadata": {
        "id": "nU4IwntYLRum"
      },
      "execution_count": null,
      "outputs": []
    },
    {
      "cell_type": "code",
      "source": [
        "chain.memory"
      ],
      "metadata": {
        "id": "EUAtjzI_LVt6"
      },
      "execution_count": null,
      "outputs": []
    },
    {
      "cell_type": "code",
      "source": [
        "print(chain.memory.buffer)"
      ],
      "metadata": {
        "id": "3Er0bLnZLq5k"
      },
      "execution_count": null,
      "outputs": []
    },
    {
      "cell_type": "markdown",
      "source": [
        "##Hugging face with langchain"
      ],
      "metadata": {
        "id": "MmI_B8APSFXc"
      }
    },
    {
      "cell_type": "code",
      "source": [
        "pip install Huggingface_hub\n"
      ],
      "metadata": {
        "id": "7fTDgDSfSJCh"
      },
      "execution_count": null,
      "outputs": []
    },
    {
      "cell_type": "code",
      "source": [
        "pip install transformers"
      ],
      "metadata": {
        "id": "IcK9A6wWVenC"
      },
      "execution_count": null,
      "outputs": []
    },
    {
      "cell_type": "code",
      "source": [
        "pip install accelerate #Fine-Tuning LLM"
      ],
      "metadata": {
        "id": "K7SxBjKTVhbz"
      },
      "execution_count": null,
      "outputs": []
    },
    {
      "cell_type": "code",
      "source": [
        "pip install bitsandbytes #reducing memory usage"
      ],
      "metadata": {
        "id": "MopnsrXnVvUQ"
      },
      "execution_count": null,
      "outputs": []
    },
    {
      "cell_type": "code",
      "source": [],
      "metadata": {
        "id": "TYXG8JsPWVJ_"
      },
      "execution_count": null,
      "outputs": []
    },
    {
      "cell_type": "code",
      "source": [
        "#import all library\n",
        "from langchain import PromptTemplate, LLMChain, HuggingFaceHub"
      ],
      "metadata": {
        "id": "KzL8IJ5JWm9M"
      },
      "execution_count": null,
      "outputs": []
    },
    {
      "cell_type": "code",
      "source": [
        "# @title\n",
        "#set envirnment\n"
      ],
      "metadata": {
        "id": "sCSZaMgkXAe1"
      },
      "execution_count": 10,
      "outputs": []
    },
    {
      "cell_type": "markdown",
      "source": [
        "##text-to-text model"
      ],
      "metadata": {
        "id": "-UnwG4fRXamb"
      }
    },
    {
      "cell_type": "code",
      "source": [
        "PromptTemplate(\n",
        "    input_variable = ['product'],\n",
        "    template = \"what is good name of company that makes {product}\"\n",
        ")"
      ],
      "metadata": {
        "id": "tumG-1gTXcyy"
      },
      "execution_count": null,
      "outputs": []
    },
    {
      "cell_type": "code",
      "source": [
        "chain=LLMChain(llm=HuggingFaceHub(repo_id='google/flan-t5-large\"='',model_kwargs={'temprature':0}),prompt=prompt)"
      ],
      "metadata": {
        "id": "zfrvdMp3YLVc"
      },
      "execution_count": null,
      "outputs": []
    },
    {
      "cell_type": "code",
      "source": [
        "chain.run(\"camera\")"
      ],
      "metadata": {
        "id": "X3HvEw9JZiss"
      },
      "execution_count": null,
      "outputs": []
    },
    {
      "cell_type": "markdown",
      "source": [
        "##Text generation Model"
      ],
      "metadata": {
        "id": "tl_iL9Shanye"
      }
    },
    {
      "cell_type": "code",
      "source": [
        "PromptTemplate(\n",
        "    input_variable = ['product'],\n",
        "    template = \"what is good name of company that makes {product}\"\n",
        ")"
      ],
      "metadata": {
        "id": "IhU2dbQJbBnU"
      },
      "execution_count": null,
      "outputs": []
    },
    {
      "cell_type": "code",
      "source": [
        "pip install --upgrade transformers"
      ],
      "metadata": {
        "id": "I7ihxEFqc0xn"
      },
      "execution_count": null,
      "outputs": []
    },
    {
      "cell_type": "code",
      "source": [
        "!pip install langchain-community"
      ],
      "metadata": {
        "id": "YbmGivwf-G9l"
      },
      "execution_count": null,
      "outputs": []
    },
    {
      "cell_type": "code",
      "source": [
        "from langchain import HuggingFacePipeline\n",
        "import torch\n",
        "from transformers import AutoTokenizer, AutoModelForCausalLM,  pipeline, AutoModelForSeq2SeqLM\n"
      ],
      "metadata": {
        "id": "JK2moU5LbL3i"
      },
      "execution_count": null,
      "outputs": []
    },
    {
      "cell_type": "code",
      "source": [
        "model_id=\"google/flan-t5-large\""
      ],
      "metadata": {
        "id": "l-hayw6tdjqn"
      },
      "execution_count": null,
      "outputs": []
    },
    {
      "cell_type": "code",
      "source": [
        "#encode prompt like text to numeric\n",
        "\n",
        "tokenizer=AutoTokenizer.from_pretrained(model_id)"
      ],
      "metadata": {
        "id": "hZcOLeMIdvEJ"
      },
      "execution_count": null,
      "outputs": []
    },
    {
      "cell_type": "markdown",
      "source": [
        "###Automatically Selects the Right Model Class"
      ],
      "metadata": {
        "id": "vUH9-aVh9G7J"
      }
    },
    {
      "cell_type": "code",
      "source": [
        "model = AutoModelForSeq2SeqLM.from_pretrained(model_id,device_map='auto')"
      ],
      "metadata": {
        "id": "cbYkD5S-eSSy"
      },
      "execution_count": null,
      "outputs": []
    },
    {
      "cell_type": "code",
      "source": [
        "pipeline = pipeline(\"text2text-generation\",model=model,tokenizer=tokenizer)"
      ],
      "metadata": {
        "id": "y1GDrfr3foXw"
      },
      "execution_count": null,
      "outputs": []
    },
    {
      "cell_type": "code",
      "source": [
        "local_llm = HuggingFacePipeline(pipeline=pipeline)"
      ],
      "metadata": {
        "id": "1HP0595WgHCo"
      },
      "execution_count": null,
      "outputs": []
    },
    {
      "cell_type": "code",
      "source": [
        "PromptTemplate(\n",
        "    input_variable = ['product'],\n",
        "    template = \"what is good name of company that makes {product}\"\n",
        ")"
      ],
      "metadata": {
        "id": "S5HLVeHKgdVS"
      },
      "execution_count": null,
      "outputs": []
    },
    {
      "cell_type": "code",
      "source": [
        "chain=LLMChain(llm=local_llm,prompt=prompt)"
      ],
      "metadata": {
        "id": "b7LBhHvegkcB"
      },
      "execution_count": null,
      "outputs": []
    },
    {
      "cell_type": "code",
      "source": [
        "chain.run(\"food\")"
      ],
      "metadata": {
        "id": "CV6KmfsYgwbn"
      },
      "execution_count": null,
      "outputs": []
    }
  ]
}